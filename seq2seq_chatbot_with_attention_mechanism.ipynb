{
  "nbformat": 4,
  "nbformat_minor": 0,
  "metadata": {
    "colab": {
      "provenance": [],
      "gpuType": "V28"
    },
    "kernelspec": {
      "name": "python3",
      "display_name": "Python 3"
    },
    "language_info": {
      "name": "python"
    },
    "accelerator": "TPU"
  },
  "cells": [
    {
      "cell_type": "markdown",
      "source": [
        "# Решение задачи:"
      ],
      "metadata": {
        "id": "i6r9H0Nucruw"
      }
    },
    {
      "cell_type": "markdown",
      "source": [
        "Так как в данном коде используется **TPU v2-8**, то стоит отдельно произвести установку **tensorflow**:"
      ],
      "metadata": {
        "id": "qdFgv68B08sB"
      }
    },
    {
      "cell_type": "code",
      "source": [
        "!pip install tensorflow"
      ],
      "metadata": {
        "colab": {
          "base_uri": "https://localhost:8080/"
        },
        "id": "6cApEIH-ybdx",
        "outputId": "c78eb4e3-340e-462d-b511-26f9f2d9f546"
      },
      "execution_count": null,
      "outputs": [
        {
          "output_type": "stream",
          "name": "stdout",
          "text": [
            "Collecting tensorflow\n",
            "  Downloading tensorflow-2.20.0-cp312-cp312-manylinux_2_17_x86_64.manylinux2014_x86_64.whl.metadata (4.5 kB)\n",
            "Requirement already satisfied: absl-py>=1.0.0 in /usr/local/lib/python3.12/dist-packages (from tensorflow) (1.4.0)\n",
            "Collecting astunparse>=1.6.0 (from tensorflow)\n",
            "  Downloading astunparse-1.6.3-py2.py3-none-any.whl.metadata (4.4 kB)\n",
            "Collecting flatbuffers>=24.3.25 (from tensorflow)\n",
            "  Downloading flatbuffers-25.2.10-py2.py3-none-any.whl.metadata (875 bytes)\n",
            "Requirement already satisfied: gast!=0.5.0,!=0.5.1,!=0.5.2,>=0.2.1 in /usr/local/lib/python3.12/dist-packages (from tensorflow) (0.6.0)\n",
            "Collecting google_pasta>=0.1.1 (from tensorflow)\n",
            "  Downloading google_pasta-0.2.0-py3-none-any.whl.metadata (814 bytes)\n",
            "Collecting libclang>=13.0.0 (from tensorflow)\n",
            "  Downloading libclang-18.1.1-py2.py3-none-manylinux2010_x86_64.whl.metadata (5.2 kB)\n",
            "Requirement already satisfied: opt_einsum>=2.3.2 in /usr/local/lib/python3.12/dist-packages (from tensorflow) (3.4.0)\n",
            "Requirement already satisfied: packaging in /usr/local/lib/python3.12/dist-packages (from tensorflow) (25.0)\n",
            "Requirement already satisfied: protobuf>=5.28.0 in /usr/local/lib/python3.12/dist-packages (from tensorflow) (6.32.0)\n",
            "Requirement already satisfied: requests<3,>=2.21.0 in /usr/local/lib/python3.12/dist-packages (from tensorflow) (2.32.4)\n",
            "Requirement already satisfied: setuptools in /usr/local/lib/python3.12/dist-packages (from tensorflow) (75.2.0)\n",
            "Requirement already satisfied: six>=1.12.0 in /usr/local/lib/python3.12/dist-packages (from tensorflow) (1.17.0)\n",
            "Requirement already satisfied: termcolor>=1.1.0 in /usr/local/lib/python3.12/dist-packages (from tensorflow) (3.1.0)\n",
            "Requirement already satisfied: typing_extensions>=3.6.6 in /usr/local/lib/python3.12/dist-packages (from tensorflow) (4.15.0)\n",
            "Requirement already satisfied: wrapt>=1.11.0 in /usr/local/lib/python3.12/dist-packages (from tensorflow) (1.17.3)\n",
            "Requirement already satisfied: grpcio<2.0,>=1.24.3 in /usr/local/lib/python3.12/dist-packages (from tensorflow) (1.74.0)\n",
            "Collecting tensorboard~=2.20.0 (from tensorflow)\n",
            "  Downloading tensorboard-2.20.0-py3-none-any.whl.metadata (1.8 kB)\n",
            "Requirement already satisfied: keras>=3.10.0 in /usr/local/lib/python3.12/dist-packages (from tensorflow) (3.10.0)\n",
            "Requirement already satisfied: numpy>=1.26.0 in /usr/local/lib/python3.12/dist-packages (from tensorflow) (2.0.2)\n",
            "Requirement already satisfied: h5py>=3.11.0 in /usr/local/lib/python3.12/dist-packages (from tensorflow) (3.14.0)\n",
            "Requirement already satisfied: ml_dtypes<1.0.0,>=0.5.1 in /usr/local/lib/python3.12/dist-packages (from tensorflow) (0.5.3)\n",
            "Collecting wheel<1.0,>=0.23.0 (from astunparse>=1.6.0->tensorflow)\n",
            "  Downloading wheel-0.45.1-py3-none-any.whl.metadata (2.3 kB)\n",
            "Requirement already satisfied: rich in /usr/local/lib/python3.12/dist-packages (from keras>=3.10.0->tensorflow) (14.1.0)\n",
            "Requirement already satisfied: namex in /usr/local/lib/python3.12/dist-packages (from keras>=3.10.0->tensorflow) (0.1.0)\n",
            "Requirement already satisfied: optree in /usr/local/lib/python3.12/dist-packages (from keras>=3.10.0->tensorflow) (0.17.0)\n",
            "Requirement already satisfied: charset_normalizer<4,>=2 in /usr/local/lib/python3.12/dist-packages (from requests<3,>=2.21.0->tensorflow) (3.4.3)\n",
            "Requirement already satisfied: idna<4,>=2.5 in /usr/local/lib/python3.12/dist-packages (from requests<3,>=2.21.0->tensorflow) (3.10)\n",
            "Requirement already satisfied: urllib3<3,>=1.21.1 in /usr/local/lib/python3.12/dist-packages (from requests<3,>=2.21.0->tensorflow) (2.5.0)\n",
            "Requirement already satisfied: certifi>=2017.4.17 in /usr/local/lib/python3.12/dist-packages (from requests<3,>=2.21.0->tensorflow) (2025.8.3)\n",
            "Requirement already satisfied: markdown>=2.6.8 in /usr/lib/python3/dist-packages (from tensorboard~=2.20.0->tensorflow) (3.3.6)\n",
            "Requirement already satisfied: pillow in /usr/local/lib/python3.12/dist-packages (from tensorboard~=2.20.0->tensorflow) (11.3.0)\n",
            "Collecting tensorboard-data-server<0.8.0,>=0.7.0 (from tensorboard~=2.20.0->tensorflow)\n",
            "  Downloading tensorboard_data_server-0.7.2-py3-none-manylinux_2_31_x86_64.whl.metadata (1.1 kB)\n",
            "Collecting werkzeug>=1.0.1 (from tensorboard~=2.20.0->tensorflow)\n",
            "  Downloading werkzeug-3.1.3-py3-none-any.whl.metadata (3.7 kB)\n",
            "Requirement already satisfied: MarkupSafe>=2.1.1 in /usr/local/lib/python3.12/dist-packages (from werkzeug>=1.0.1->tensorboard~=2.20.0->tensorflow) (3.0.2)\n",
            "Requirement already satisfied: markdown-it-py>=2.2.0 in /usr/local/lib/python3.12/dist-packages (from rich->keras>=3.10.0->tensorflow) (4.0.0)\n",
            "Requirement already satisfied: pygments<3.0.0,>=2.13.0 in /usr/local/lib/python3.12/dist-packages (from rich->keras>=3.10.0->tensorflow) (2.19.2)\n",
            "Requirement already satisfied: mdurl~=0.1 in /usr/local/lib/python3.12/dist-packages (from markdown-it-py>=2.2.0->rich->keras>=3.10.0->tensorflow) (0.1.2)\n",
            "Downloading tensorflow-2.20.0-cp312-cp312-manylinux_2_17_x86_64.manylinux2014_x86_64.whl (620.7 MB)\n",
            "\u001b[2K   \u001b[90m━━━━━━━━━━━━━━━━━━━━━━━━━━━━━━━━━━━━━━━━\u001b[0m \u001b[32m620.7/620.7 MB\u001b[0m \u001b[31m1.5 MB/s\u001b[0m eta \u001b[36m0:00:00\u001b[0m\n",
            "\u001b[?25hDownloading astunparse-1.6.3-py2.py3-none-any.whl (12 kB)\n",
            "Downloading flatbuffers-25.2.10-py2.py3-none-any.whl (30 kB)\n",
            "Downloading google_pasta-0.2.0-py3-none-any.whl (57 kB)\n",
            "\u001b[2K   \u001b[90m━━━━━━━━━━━━━━━━━━━━━━━━━━━━━━━━━━━━━━━━\u001b[0m \u001b[32m57.5/57.5 kB\u001b[0m \u001b[31m5.3 MB/s\u001b[0m eta \u001b[36m0:00:00\u001b[0m\n",
            "\u001b[?25hDownloading libclang-18.1.1-py2.py3-none-manylinux2010_x86_64.whl (24.5 MB)\n",
            "\u001b[2K   \u001b[90m━━━━━━━━━━━━━━━━━━━━━━━━━━━━━━━━━━━━━━━━\u001b[0m \u001b[32m24.5/24.5 MB\u001b[0m \u001b[31m71.7 MB/s\u001b[0m eta \u001b[36m0:00:00\u001b[0m\n",
            "\u001b[?25hDownloading tensorboard-2.20.0-py3-none-any.whl (5.5 MB)\n",
            "\u001b[2K   \u001b[90m━━━━━━━━━━━━━━━━━━━━━━━━━━━━━━━━━━━━━━━━\u001b[0m \u001b[32m5.5/5.5 MB\u001b[0m \u001b[31m101.7 MB/s\u001b[0m eta \u001b[36m0:00:00\u001b[0m\n",
            "\u001b[?25hDownloading tensorboard_data_server-0.7.2-py3-none-manylinux_2_31_x86_64.whl (6.6 MB)\n",
            "\u001b[2K   \u001b[90m━━━━━━━━━━━━━━━━━━━━━━━━━━━━━━━━━━━━━━━━\u001b[0m \u001b[32m6.6/6.6 MB\u001b[0m \u001b[31m98.4 MB/s\u001b[0m eta \u001b[36m0:00:00\u001b[0m\n",
            "\u001b[?25hDownloading werkzeug-3.1.3-py3-none-any.whl (224 kB)\n",
            "\u001b[2K   \u001b[90m━━━━━━━━━━━━━━━━━━━━━━━━━━━━━━━━━━━━━━━━\u001b[0m \u001b[32m224.5/224.5 kB\u001b[0m \u001b[31m19.5 MB/s\u001b[0m eta \u001b[36m0:00:00\u001b[0m\n",
            "\u001b[?25hDownloading wheel-0.45.1-py3-none-any.whl (72 kB)\n",
            "\u001b[2K   \u001b[90m━━━━━━━━━━━━━━━━━━━━━━━━━━━━━━━━━━━━━━━━\u001b[0m \u001b[32m72.5/72.5 kB\u001b[0m \u001b[31m6.6 MB/s\u001b[0m eta \u001b[36m0:00:00\u001b[0m\n",
            "\u001b[?25hInstalling collected packages: libclang, flatbuffers, wheel, werkzeug, tensorboard-data-server, google_pasta, tensorboard, astunparse, tensorflow\n",
            "Successfully installed astunparse-1.6.3 flatbuffers-25.2.10 google_pasta-0.2.0 libclang-18.1.1 tensorboard-2.20.0 tensorboard-data-server-0.7.2 tensorflow-2.20.0 werkzeug-3.1.3 wheel-0.45.1\n"
          ]
        }
      ]
    },
    {
      "cell_type": "markdown",
      "source": [
        "Импортируем нужные нам библиотеки:"
      ],
      "metadata": {
        "id": "R-GaLihvctdR"
      }
    },
    {
      "cell_type": "code",
      "source": [
        "import numpy as np\n",
        "from random import randint\n",
        "import unicodedata\n",
        "import re\n",
        "import os\n",
        "import time\n",
        "import pandas as pd\n",
        "import tensorflow as tf\n",
        "from keras.models import Model, load_model\n",
        "from keras.layers import Dense, Embedding, GRU, Input, Dense, Embedding, Bidirectional, Concatenate, Dropout, Dot\n",
        "from keras.optimizers import RMSprop, Adadelta, Adam\n",
        "from keras.preprocessing.sequence import pad_sequences\n",
        "from tensorflow.keras.preprocessing.text import Tokenizer\n",
        "from keras import utils\n",
        "from keras.callbacks import EarlyStopping, ModelCheckpoint\n",
        "from keras.utils import plot_model\n",
        "from sklearn.model_selection import train_test_split\n",
        "\n",
        "import matplotlib.pyplot as plt\n",
        "import matplotlib.ticker as ticker\n",
        "import seaborn as sns\n",
        "%matplotlib inline\n",
        "\n",
        "import warnings\n",
        "warnings.filterwarnings('ignore')"
      ],
      "metadata": {
        "id": "0FpWrRvhctnn"
      },
      "execution_count": null,
      "outputs": []
    },
    {
      "cell_type": "markdown",
      "source": [
        "Добавим **mixed precision training** для ускорения работы кода:"
      ],
      "metadata": {
        "id": "5ez2VV_PGQg6"
      }
    },
    {
      "cell_type": "code",
      "source": [
        "from tensorflow.keras.mixed_precision import Policy, set_global_policy\n",
        "\n",
        "try:\n",
        "    set_global_policy(Policy(\"mixed_bfloat16\")) # Для TPU используем bfloat16\n",
        "    print(\"✅ Включена mixed precision (bfloat16) для TPU\")\n",
        "except:\n",
        "    print(\"⚠️ Mixed precision недоступна. Продолжаем в float32 режиме\")"
      ],
      "metadata": {
        "colab": {
          "base_uri": "https://localhost:8080/"
        },
        "id": "gyrtQaqqGQBd",
        "outputId": "f6421bfa-342d-44c6-9b95-626da84ee398"
      },
      "execution_count": null,
      "outputs": [
        {
          "output_type": "stream",
          "name": "stdout",
          "text": [
            "✅ Включена mixed precision (bfloat16) для TPU\n"
          ]
        }
      ]
    },
    {
      "cell_type": "markdown",
      "source": [
        "Скачаем текстовый документ с диалогами:"
      ],
      "metadata": {
        "id": "Y04XCtq3BniH"
      }
    },
    {
      "cell_type": "code",
      "source": [
        "!wget https://storage.yandexcloud.net/academy.ai/LLM/dialogs.txt"
      ],
      "metadata": {
        "id": "HXHUFv8zBnsb",
        "colab": {
          "base_uri": "https://localhost:8080/"
        },
        "outputId": "cb96ec09-7389-4e99-b561-e324cf0d6257"
      },
      "execution_count": null,
      "outputs": [
        {
          "output_type": "stream",
          "name": "stdout",
          "text": [
            "--2025-09-03 17:04:04--  https://storage.yandexcloud.net/academy.ai/LLM/dialogs.txt\n",
            "Resolving storage.yandexcloud.net (storage.yandexcloud.net)... 213.180.193.243, 2a02:6b8::1d9\n",
            "Connecting to storage.yandexcloud.net (storage.yandexcloud.net)|213.180.193.243|:443... connected.\n",
            "HTTP request sent, awaiting response... 200 OK\n",
            "Length: 243904 (238K) [text/plain]\n",
            "Saving to: ‘dialogs.txt’\n",
            "\n",
            "dialogs.txt         100%[===================>] 238.19K   477KB/s    in 0.5s    \n",
            "\n",
            "2025-09-03 17:04:05 (477 KB/s) - ‘dialogs.txt’ saved [243904/243904]\n",
            "\n"
          ]
        }
      ]
    },
    {
      "cell_type": "markdown",
      "source": [
        "Определение констант:"
      ],
      "metadata": {
        "id": "xq8vBJX8B3g_"
      }
    },
    {
      "cell_type": "code",
      "source": [
        "BATCH_SIZE     = 128           # размер обучающего пакета.\n",
        "EPOCHS         = 30            # число эпох обучения.\n",
        "UNITS          = 512           # число нейронов в рекуррентных с слоях.\n",
        "EMBED_DIM      = 128           # размерность эмбеддинга.\n",
        "NUM_SAMPLES    = 50000         # число примеров для обучения.\n",
        "FILE_NAME      = \"dialogs.txt\" # имя файла со словарем в архиве\n",
        "SOS            = '<start>'     # токен начала последовательсти\n",
        "EOS            = '<end>'       # токен окончания последовательсти"
      ],
      "metadata": {
        "id": "Rp9uYTtCB3sM"
      },
      "execution_count": null,
      "outputs": []
    },
    {
      "cell_type": "markdown",
      "source": [
        "Фразы необходимо подготовить: добавить пробелы между словами и знаками препинания, спец. символы необходимо заменить на пробелы, убрать пробелы в начале и конце фразы. Также необходимо добавить токены начала последовательности `SOS` и ее окончания `EOS`:"
      ],
      "metadata": {
        "id": "zzCqS2V5CLKx"
      }
    },
    {
      "cell_type": "code",
      "source": [
        "def preprocess_sentence(w):\n",
        "    w = re.sub(r\"([?.!,;:¿])\", r\" \\1 \", w)\n",
        "    w = re.sub(r'[\" \"]+', \" \", w)\n",
        "\n",
        "    w = re.sub(r\"[^a-zA-Zа-яёА-ЯЁ?'`.!,;:¿]+\", \" \", w)\n",
        "    w = w.rstrip().strip()\n",
        "\n",
        "    # Добавляем в фразу токены SOS и EOS\n",
        "    w = SOS + ' ' + w + ' ' + EOS\n",
        "    return w"
      ],
      "metadata": {
        "id": "3CgrDYG0DJnq"
      },
      "execution_count": null,
      "outputs": []
    },
    {
      "cell_type": "markdown",
      "source": [
        "Далее сформируем  выборку из `NUM_SAMPLES` примеров. По аналогии с чат-ботами мы сформируем массивы из входных фраз `questions` (вопросов) и выходных `answers` (ответов), а также определим токены начала последовательности `SOS` и токены окончания последовательности `EOS`:"
      ],
      "metadata": {
        "id": "Ro_oiwL_DLrR"
      }
    },
    {
      "cell_type": "code",
      "source": [
        "# Собираем вопросы и ответы в списки\n",
        "\n",
        "questions = [] # список входных фраз\n",
        "answers = []   # список ответных фраз\n",
        "\n",
        "with open(FILE_NAME, \"r\", encoding=\"utf-8\") as f: # открываем файл в режиме чтения\n",
        "    lines = f.read().split(\"\\n\")                  # считываем весь файл, разделяя на строки\n",
        "\n",
        "for line in lines[: min(NUM_SAMPLES, len(lines) - 1)]:\n",
        "    # Разделяем строку по табам (входные данные, выходные и ненужный столбец)\n",
        "    input_text, target_text = line.split(\"\\t\")\n",
        "\n",
        "    # Подготовка данных\n",
        "    questions.append(preprocess_sentence(input_text))\n",
        "    answers.append(preprocess_sentence(target_text))\n",
        "\n",
        "print(\"Число примеров:\", len(answers))\n",
        "\n",
        "#  Получим случайный вопрос и ответ\n",
        "random_index = randint(0, len(questions)-1)\n",
        "print(f'Вопрос : {questions[random_index]}') # Пример входной фразы\n",
        "print(f'Ответ : {answers[random_index]}')    # Пример ответной фразы"
      ],
      "metadata": {
        "id": "abIoR7SyDL1M",
        "colab": {
          "base_uri": "https://localhost:8080/"
        },
        "outputId": "36738a37-277b-4d11-af98-fbf432342d6f"
      },
      "execution_count": null,
      "outputs": [
        {
          "output_type": "stream",
          "name": "stdout",
          "text": [
            "Число примеров: 3724\n",
            "Вопрос : <start> where do you want to go ? <end>\n",
            "Ответ : <start> we can go to the river . <end>\n"
          ]
        }
      ]
    },
    {
      "cell_type": "markdown",
      "source": [
        "Создадим для каждого языка свой персональный токенизатор с помощью функции:"
      ],
      "metadata": {
        "id": "LqQgfDYrQW9T"
      }
    },
    {
      "cell_type": "code",
      "source": [
        "def tokenize(text): # функция принимает текст на заданном языке\n",
        "    # Создадим токенайзер\n",
        "    tokenizer = Tokenizer(filters='')\n",
        "\n",
        "    # Загружаем в токенизатор тексты для обработки и сборки словаря частотности\n",
        "    tokenizer.fit_on_texts(text)\n",
        "\n",
        "    # Векторизируем фразы\n",
        "    seq = tokenizer.texts_to_sequences(text)\n",
        "\n",
        "    # Делаем последовательности одной длины, заполняя нулями короткие фразы\n",
        "    pseq = pad_sequences(seq, padding='post')\n",
        "\n",
        "    # Возвращаем последовательность индексов и токенизатор\n",
        "    return pseq, tokenizer"
      ],
      "metadata": {
        "id": "3CkjcZeTQXHa"
      },
      "execution_count": null,
      "outputs": []
    },
    {
      "cell_type": "markdown",
      "source": [
        "Функция вернет нам последовательность индексов и токенизатор на заданном языке:"
      ],
      "metadata": {
        "id": "mUN858lAQfji"
      }
    },
    {
      "cell_type": "code",
      "source": [
        "paddedQuestions, tokenizer_input = tokenize(questions)    # формируем вектор фикс длины для вопросов\n",
        "paddedAnswers, tokenizer_output = tokenize(answers)      # формируем вектор фикс длины для ответов"
      ],
      "metadata": {
        "id": "E7XaRffwQfvf"
      },
      "execution_count": null,
      "outputs": []
    },
    {
      "cell_type": "markdown",
      "source": [
        "Определим максимальную длину русских и английских фраз:"
      ],
      "metadata": {
        "id": "uJ3EI9HwQhb6"
      }
    },
    {
      "cell_type": "code",
      "source": [
        "max_length_output = paddedAnswers.shape[1]\n",
        "max_length_input = paddedQuestions.shape[1]"
      ],
      "metadata": {
        "id": "eBTdLnz7Qhl5"
      },
      "execution_count": null,
      "outputs": []
    },
    {
      "cell_type": "markdown",
      "source": [
        "Создадим обучающую и проверочную выборки в соотношении **80/20**:"
      ],
      "metadata": {
        "id": "Rn-XyoNiQj2B"
      }
    },
    {
      "cell_type": "code",
      "source": [
        "questions_train, questions_val, answers_train, answers_val = train_test_split(paddedQuestions, paddedAnswers, test_size=0.2)"
      ],
      "metadata": {
        "id": "UKNCCE76QkG5"
      },
      "execution_count": null,
      "outputs": []
    },
    {
      "cell_type": "markdown",
      "source": [
        "Этот код определяет ключевые параметры для обучения: `BUFFER_SIZE` задает объем данных для перемешивания при создании датасета, `STEPS_PER_EPOCH` вычисляет количество итераций на одну эпоху в зависимости от размера батча, а `VOCAB_INPUT_SIZE` и `VOCAB_OUTPUT_SIZE` определяют размеры словарей для входных и выходных последовательностей, добавляя 1 для учета специального токена неизвестных слов:"
      ],
      "metadata": {
        "id": "ND2IJB29Up7c"
      }
    },
    {
      "cell_type": "code",
      "source": [
        "# Определим параметры\n",
        "BUFFER_SIZE = len(questions_train)                     # случайно сэмплировать будем по всей длине обучающейся выборки\n",
        "STEPS_PER_EPOCH = len(questions_train)//BATCH_SIZE     # количество шагов в одной эпохе\n",
        "\n",
        "VOCAB_INPUT_SIZE = len(tokenizer_input.word_index) + 1\n",
        "VOCAB_OUTPUT_SIZE = len(tokenizer_output.word_index) + 1"
      ],
      "metadata": {
        "id": "XaLP03GdUqHB"
      },
      "execution_count": null,
      "outputs": []
    },
    {
      "cell_type": "markdown",
      "source": [
        "Преобразуем закодированные последовательности обратно в читаемый текст, отображая соответствие между числовыми индексами и словами из словаря:"
      ],
      "metadata": {
        "id": "YaEsT-cQUto7"
      }
    },
    {
      "cell_type": "code",
      "source": [
        "# Маппинг данных из индексов в слова\n",
        "def convert(lang, tensor):\n",
        "  for t in tensor:\n",
        "    if t != 0:\n",
        "      print (\"%d ----> %s\" % (t, lang.index_word[t]))\n",
        "\n",
        "print (\"Вопрос:\")\n",
        "convert(tokenizer_input, questions_train[0])\n",
        "print ()\n",
        "print (\"Ответ:\")\n",
        "convert(tokenizer_output, answers_train[0])"
      ],
      "metadata": {
        "id": "MBgKrcwLUt08",
        "colab": {
          "base_uri": "https://localhost:8080/"
        },
        "outputId": "1bfe0284-14e4-4028-daf0-a942ae04c3eb"
      },
      "execution_count": null,
      "outputs": [
        {
          "output_type": "stream",
          "name": "stdout",
          "text": [
            "Вопрос:\n",
            "1 ----> <start>\n",
            "5 ----> i\n",
            "46 ----> think\n",
            "11 ----> it\n",
            "2034 ----> depends\n",
            "36 ----> on\n",
            "8 ----> the\n",
            "1332 ----> season\n",
            "17 ----> and\n",
            "36 ----> on\n",
            "43 ----> your\n",
            "1333 ----> cabin\n",
            "3 ----> .\n",
            "2 ----> <end>\n",
            "\n",
            "Ответ:\n",
            "1 ----> <start>\n",
            "56 ----> well\n",
            "6 ----> ,\n",
            "15 ----> of\n",
            "85 ----> course\n",
            "4 ----> i\n",
            "58 ----> want\n",
            "9 ----> to\n",
            "44 ----> go\n",
            "89 ----> when\n",
            "8 ----> the\n",
            "159 ----> weather\n",
            "17 ----> is\n",
            "82 ----> nice\n",
            "3 ----> .\n",
            "2 ----> <end>\n"
          ]
        }
      ]
    },
    {
      "cell_type": "markdown",
      "source": [
        "Создадим датасет `tf.data.Dataset` из массивов **Numpy** со случайной подачей тренировочных сэмплов в процессе обучения:"
      ],
      "metadata": {
        "id": "-yOBQo2WUxuF"
      }
    },
    {
      "cell_type": "code",
      "source": [
        "dataset = tf.data.Dataset.from_tensor_slices((questions_train, answers_train))  # Создаем датасет из пар (вопросы, ответы), разделяя по первой оси\n",
        "dataset = dataset.shuffle(BUFFER_SIZE)  # Перемешиваем данные с использованием буфера размером BUFFER_SIZE для лучшей рандомизации\n",
        "dataset = dataset.batch(BATCH_SIZE, drop_remainder=True)  # Группируем данные в батчи фиксированного размера, отбрасывая неполный последний батч\n",
        "dataset = dataset.prefetch(tf.data.AUTOTUNE)  # Настраиваем предзагрузку следующего батча параллельно с обработкой текущего для ускорения обучения\n",
        "dataset = dataset.cache()  # Кэшируем весь датасет в памяти после первой эпохи, ускоряя последующие проходы по данным"
      ],
      "metadata": {
        "id": "TpgefQlbUx7n"
      },
      "execution_count": null,
      "outputs": []
    },
    {
      "cell_type": "markdown",
      "source": [
        "Посмотрим на форму примеров полученных батчей:"
      ],
      "metadata": {
        "id": "Npc4sJB9U0FA"
      }
    },
    {
      "cell_type": "code",
      "source": [
        "example_questions_batch, example_answers_batch = next(iter(dataset))\n",
        "print('Форма батчей вопросов и ответов: ', example_questions_batch.shape, example_answers_batch.shape)"
      ],
      "metadata": {
        "id": "t9qyWG1mU0N0",
        "colab": {
          "base_uri": "https://localhost:8080/"
        },
        "outputId": "60b05d2e-bc83-4fe3-f310-9e8f953bc213"
      },
      "execution_count": null,
      "outputs": [
        {
          "output_type": "stream",
          "name": "stdout",
          "text": [
            "Форма батчей вопросов и ответов:  (128, 24) (128, 24)\n"
          ]
        }
      ]
    },
    {
      "cell_type": "markdown",
      "source": [
        "Первым шагом в создании модели `seq2seq` с механизмом внимания является создание кодировщика. Мы создадим кодировщик со слоем `Embedding`, за которым следует слой **GRU** (**Gated Recurrent Unit**). Вводимая последовательность, сначала проходит через слой `Embedding`, а затем в слой `GRU`. На выходе `GRU` получаем выходные данные блока кодировщика и скрытое состояние.     \n",
        "В качестве рекуррентного слоя мы выбрали `GRU` и инициализацируем его веса с помощью **метода Ксавьера** `lorot_uniform` для упрощения прохождения сигнала при распространении ошибки. Что значительно экономит ресурсы.\n",
        "\n",
        "Рассмотрим архитектуру класса кодировщика  `Encoder`. Мы наследуем класс от базового класа `Model` в **Keras**, и сможем его использовать аналогично слою. На самом деле мы могли бы наследовать класс и от другого базового класса **Keras** - `Layer`. Для нашей задачи оба варианта идентичны! В литературе и в примерах на **GitHub**, **Хабре** и т. д. вы можете встретить оба подхода.\n",
        "\n",
        "Класс должен включать два метода `__init__()` и `call()`:\n",
        "\n",
        "В метод `__init__()` при инициализации класса передаем параметры: размер словаря `vocab_size`, размер пространства эмбеддинга `embedding_dim`, число нейронов в **GRU** `enc_units`, размер пакета `batch_sz`.\n",
        "\n",
        "В методе `call()` определяем структуру (или \"прямое распространение в сети кодировщика\", если говорить более научным языком.\n",
        "\n",
        "Кроме того, мы определим метод `initialize_hidden_state()` для инициализации скрытого состояния с размерами `batch_size` и `enc_units`:"
      ],
      "metadata": {
        "id": "m-6IjTXAU3K3"
      }
    },
    {
      "cell_type": "code",
      "source": [
        "class Encoder(tf.keras.Model):\n",
        "  # Конструктор класса\n",
        "  def __init__(self,\n",
        "               vocab_size,    # размер словаря\n",
        "               embedding_dim, # размер пространства эмбеддинга\n",
        "               enc_units,     # число нейронов в GRU\n",
        "               batch_sz):     # размер батча\n",
        "\n",
        "    super(Encoder, self).__init__()                                   # вызываем инициализацию родительского класса\n",
        "    self.batch_sz = batch_sz                                          # инициализируем переменную размера батча внутри класса\n",
        "    self.enc_units = enc_units                                        # инициализируем переменную размера слоя в кодировщике\n",
        "    self.embedding = tf.keras.layers.Embedding(vocab_size, embedding_dim)             # инициализируем слой эмбеддинга с заданными параметрами\n",
        "\n",
        "    self.gru = tf.keras.layers.GRU(self.enc_units, return_sequences=True, return_state=True, recurrent_initializer='glorot_uniform') # инициализируем рекуррентный слой с заданными параметрами\n",
        "\n",
        "  # Метод принимает входную фразу и начальное состояние\n",
        "  def call(self,\n",
        "           x,         # входная фраза\n",
        "           hidden):   # начальное состояние\n",
        "\n",
        "    x = self.embedding(x)   # входящие тензоры преобразовываются эмбеддингом\n",
        "    output, state = self.gru(x, initial_state = hidden) # далее пропускаем через слой GRU и получаем выходные данные и новое состояние\n",
        "\n",
        "    # Получаем форму output: (batch size, max_length, hidden_size)\n",
        "    # Получаем форму state: (batch size, hidden_size)\n",
        "    # sequence length == max_length\n",
        "    # units == hidden_size\n",
        "    return output, state # выход сети и состояние на выходе\n",
        "\n",
        "  # Создаем метод инициализации состояний на скрытых слоях\n",
        "  # Вернем тензор из нулей размер батча на размер слоя, его будем использовать как начальное состояние энкодера\n",
        "  def initialize_hidden_state(self):\n",
        "    return tf.zeros((self.batch_sz, self.enc_units))\n",
        "\n",
        "encoder = Encoder(VOCAB_INPUT_SIZE, EMBED_DIM, UNITS, BATCH_SIZE)"
      ],
      "metadata": {
        "id": "jE02GIv4U3Zs"
      },
      "execution_count": null,
      "outputs": []
    },
    {
      "cell_type": "markdown",
      "source": [
        "Данный класс определяет универсальный класс механизма внимания, который поддерживает четыре типа внимания: **Bahdanau (Additive), Luong Dot, Luong General и Luong Concat.** В конструкторе инициализируются необходимые слои в зависимости от выбранного режима, а в методе `call` реализованы разные формулы вычисления весов внимания для каждого типа. Для **Bahdanau** используется аддитивная модель с **tanh-активацией**, для **Luong Dot** — простое скалярное произведение, для **Luong General** — преобразование скрытого состояния перед умножением, а для **Luong Concat** — конкатенация состояний с последующим преобразованием. После вычисления оценки важности применяется **softmax** для получения нормализованных весов внимания, на основе которых формируется итоговый вектор контекста как взвешенная сумма всех состояний энкодера."
      ],
      "metadata": {
        "id": "RRbllxg6U6SA"
      }
    },
    {
      "cell_type": "code",
      "source": [
        "class AttentionMechanism(Model):\n",
        "    def __init__(self,\n",
        "                 units,\n",
        "                 mode='bahdanau'):  # Для выбора типа внимания\n",
        "        super(AttentionMechanism, self).__init__()\n",
        "        self.mode = mode\n",
        "        self.units = units\n",
        "\n",
        "        # Инициализация слоев в зависимости от выбранного режима\n",
        "        if mode == 'bahdanau':\n",
        "            # Оригинальный механизм Богданова (Additive attention)\n",
        "            self.W1 = Dense(units)\n",
        "            self.W2 = Dense(units)\n",
        "            self.V = Dense(1)\n",
        "        elif mode == 'luong_general':\n",
        "            # Luong General attention: добавляет преобразование скрытого состояния\n",
        "            self.W = Dense(units)\n",
        "        elif mode == 'luong_concat':\n",
        "            # Luong Concat attention: конкатенация состояний перед применением функции\n",
        "            self.W = Dense(units)\n",
        "            self.v = Dense(1)\n",
        "        # Для luong_dot не требуется дополнительных слоев\n",
        "\n",
        "    def call(self, hidden_state, values):\n",
        "        # Расширяем размерность hidden_state для совместимости с values\n",
        "        hidden_with_time_axis = tf.expand_dims(hidden_state, 1)\n",
        "\n",
        "        if self.mode == 'bahdanau':\n",
        "            # Bahdanau (Additive) attention\n",
        "            score = self.V(tf.nn.tanh(\n",
        "                self.W1(values) + self.W2(hidden_with_time_axis)))\n",
        "\n",
        "        elif self.mode == 'luong_dot':\n",
        "            # Luong Dot Product attention\n",
        "            # Транспонируем values для матричного умножения: (batch_size, hidden_size, max_length)\n",
        "            values_transposed = tf.transpose(values, perm=[0, 2, 1])\n",
        "            # Вычисляем скалярное произведение\n",
        "            score = tf.matmul(hidden_with_time_axis, values_transposed)\n",
        "            # Возвращаем форму score к (batch_size, max_length, 1)\n",
        "            score = tf.transpose(score, perm=[0, 2, 1])\n",
        "\n",
        "        elif self.mode == 'luong_general':\n",
        "            # Luong General attention\n",
        "            # Преобразуем hidden_state перед скалярным произведением\n",
        "            transformed_hidden = self.W(hidden_state)\n",
        "            transformed_hidden = tf.expand_dims(transformed_hidden, 1)\n",
        "            # Транспонируем values для матричного умножения\n",
        "            values_transposed = tf.transpose(values, perm=[0, 2, 1])\n",
        "            # Вычисляем скалярное произведение с преобразованным hidden_state\n",
        "            score = tf.matmul(transformed_hidden, values_transposed)\n",
        "            # Возвращаем форму score к (batch_size, max_length, 1)\n",
        "            score = tf.transpose(score, perm=[0, 2, 1])\n",
        "\n",
        "        elif self.mode == 'luong_concat':\n",
        "            # Luong Concat attention\n",
        "            # Повторяем hidden_state для каждого временного шага\n",
        "            hidden_repeated = tf.repeat(hidden_with_time_axis,\n",
        "                                       repeats=tf.shape(values)[1],\n",
        "                                       axis=1)\n",
        "            # Конкатенируем состояния\n",
        "            concat = tf.concat([hidden_repeated, values], axis=-1)\n",
        "            # Применяем преобразование\n",
        "            score = self.v(tf.nn.tanh(self.W(concat)))\n",
        "\n",
        "        else:\n",
        "            raise ValueError(f\"Неизвестный режим внимания: {self.mode}\")\n",
        "\n",
        "        # Применяем softmax для получения весов внимания\n",
        "        attention_weights = tf.nn.softmax(score, axis=1)\n",
        "\n",
        "        # Вычисляем вектор контекста как взвешенную сумму значений\n",
        "        context_vector = attention_weights * values\n",
        "        context_vector = tf.reduce_sum(context_vector, axis=1)\n",
        "\n",
        "        return context_vector, attention_weights\n",
        "\n",
        "attention_layer = AttentionMechanism(10, mode='bahdanau')"
      ],
      "metadata": {
        "id": "0rXv24_pU6bN"
      },
      "execution_count": null,
      "outputs": []
    },
    {
      "cell_type": "markdown",
      "source": [
        "Рассмотрим класс декодировщика. Он также имеет два метода: `__init__()` и `call()`.\n",
        "\n",
        "В метод `__init__()` передаем параметры: размер словаря `vocab_size`, размерность пространства эмбеддинга `embedding_dim`, число нейронов в GRU `dec_units`, размер батча `batch_sz`. При создании экземпляра класса в методе `__init__()` инициализируем размер пакета, число нейронов в слоях декодирования, определяем слои эмбэддинга, GRU и Dense слой. Кроме того, создается экземпляр класса `AttentionMechanism`. Аналогично кодировщику, в качестве рекуррентного слоя мы берем GRU и инициализацируем его веса с помощью метода Ксавьера `lorot_uniform` для упрощения прохождения сигнала при распространении ошибки.\n",
        "\n",
        "В методе `call()`:\n",
        "\n",
        "* Вызываем прямое распространение через механизм внимания и вычисляем вектор контекста и коэффициенты внимания.\n",
        "* Пропускаем целевую последовательность через слой эмбеддинга.\n",
        "* Объединяем выходной сигнал из эмбеддинга и вектор контекста.\n",
        "* Подключаем выходной сигнал к слою GRU, а затем к полносвязному слою."
      ],
      "metadata": {
        "id": "bJ3E5SoGVG8J"
      }
    },
    {
      "cell_type": "code",
      "source": [
        "class Decoder(Model):\n",
        "    # Конструктор класса\n",
        "    def __init__(self,\n",
        "                 vocab_size,    # размер словаря\n",
        "                 embedding_dim, # размерность пространства эмбеддинга\n",
        "                 dec_units,     # число нейронов в GRU\n",
        "                 batch_sz):     # размер батча\n",
        "        super(Decoder, self).__init__()                       # вызываем инициализацию родительского класса\n",
        "        self.batch_sz = batch_sz                              # инициализируем переменную размера батча внутри класса\n",
        "        self.dec_units = dec_units                            # инициализируем переменную размера слоя в декодировщике\n",
        "        self.embedding = Embedding(vocab_size, embedding_dim) # инициализируем слой эмбеддинга с заданными параметрами\n",
        "\n",
        "        self.gru = GRU(self.dec_units, return_sequences=True, return_state=True, recurrent_initializer='glorot_uniform') # инициализируем рекуррентный слой с заданными параметрами\n",
        "\n",
        "        self.fc = Dense(vocab_size) # полносвязный слой с размером словаря\n",
        "\n",
        "        self.attention = AttentionMechanism(self.dec_units, mode='bahdanau')  # по умолчанию Bahdanau\n",
        "\n",
        "    def call(self,\n",
        "             x,           # начальный токен входной последовательности\n",
        "             hidden,      # состояние кодировщика\n",
        "             enc_output   # выход кодировщика\n",
        "            ):\n",
        "        context_vector, attention_weights = self.attention(hidden, enc_output)\n",
        "\n",
        "        # Форма x после прохождения через  embedding: (batch_size, 1, embedding_dim)\n",
        "        x = self.embedding(x)\n",
        "\n",
        "        # Дальше конкатенируем с вектором контекста и получаем (batch_size, 1, embedding_dim + hidden_size)\n",
        "        x = tf.concat([tf.expand_dims(context_vector, 1), x], axis=-1)\n",
        "\n",
        "        # Сконкатенированный вектор передаем  в GRU и получаем выход с декодера и состояние\n",
        "        output, state = self.gru(x, initial_state = hidden)\n",
        "\n",
        "        # Форма output: (batch_size * 1, hidden_size)\n",
        "        output = tf.reshape(output, (-1, output.shape[2]))\n",
        "\n",
        "        # Пропускаем через полносвязный слой\n",
        "        x = self.fc(output)\n",
        "\n",
        "        # Форма выходной фразы: (batch_size, vocab)\n",
        "        # Вернем выходную фразу, вектор состояния, веса внимания\n",
        "        return x, state, attention_weights\n",
        "\n",
        "# Создали декодировщик с параметрами\n",
        "decoder = Decoder(VOCAB_OUTPUT_SIZE, EMBED_DIM, UNITS, BATCH_SIZE)"
      ],
      "metadata": {
        "id": "Wie8P7vyVHGP"
      },
      "execution_count": null,
      "outputs": []
    },
    {
      "cell_type": "markdown",
      "source": [
        "Оптимизатор будем использовать `Adam`. Функция потерь `loss_function` принимает на вход истинную и предсказанные выборки. Далее мы применяем маску, которая уберет нулевые индексы в конце фразы. Это те самые нули, которые мы добавляли для выравнивания фраз.  Далее фактические и предсказанные результаты передаем в `SparseCategoricalCrossentropy` и получаем ошибку. К ошибке необходимо применить маску ранее созданную, которая позволит избавиться от нулевых элементов:"
      ],
      "metadata": {
        "id": "07-4fX7tVMrk"
      }
    },
    {
      "cell_type": "code",
      "source": [
        "# Оптимизатор Adam\n",
        "optimizer = tf.keras.optimizers.Adam()\n",
        "\n",
        "# Функция потерь\n",
        "def loss_function(real, pred):\n",
        "  # Не все последовательности имеют одинаковую длину.\n",
        "  # Если в последовательности есть \"0\", то соответствующую ей потерю будем обнулять\n",
        "  # Для этого создадим маску\n",
        "  mask = tf.math.logical_not(tf.math.equal(real, 0))\n",
        "\n",
        "  # Создаем экземпляр класса SparseCategoricalCrossentropy\n",
        "  # И сразу вызываем его метод call() с параметрами: истинная и предсказанная фраза\n",
        "  # Получаем тензор ошибки\n",
        "  loss = tf.keras.losses.SparseCategoricalCrossentropy(from_logits=True, reduction='none')(real, pred)\n",
        "\n",
        "  mask = tf.cast(mask, dtype=loss.dtype) # приводим тип маски к типу потерь\n",
        "  loss *= mask                           # маскируем потери, избавляемся от заполняющих нулей\n",
        "\n",
        "  return tf.reduce_mean(loss) # вернем среднее значение тензора"
      ],
      "metadata": {
        "id": "jgvSiLNeVM1l"
      },
      "execution_count": null,
      "outputs": []
    },
    {
      "cell_type": "markdown",
      "source": [
        "В процессе обучения мы будем сохранять веса моделей:"
      ],
      "metadata": {
        "id": "OM9M7o9kVQKN"
      }
    },
    {
      "cell_type": "code",
      "source": [
        "checkpoint_dir = './training_checkpoints'\n",
        "checkpoint_prefix = os.path.join(checkpoint_dir, \"ckpt\")\n",
        "checkpoint = tf.train.Checkpoint(optimizer=optimizer,\n",
        "                                 encoder=encoder,\n",
        "                                 decoder=decoder)"
      ],
      "metadata": {
        "id": "mWpAan2xVQTz"
      },
      "execution_count": null,
      "outputs": []
    },
    {
      "cell_type": "markdown",
      "source": [
        "Этот код определяет оптимизированную функцию обучения для **TPU**, которая вычисляет потери и обновляет веса модели с использованием механизма **teacher forcing technique**, включая защиту от пустых последовательностей, фильтрацию некорректных градиентов и явное указание типов данных для максимальной производительности на **TPU**, при этом сохраняя основную структуру процесса обучения **seq2seq** модели с механизмом внимания. Декоратор `@tf.function(jit_compile=True)` компилирует функцию непосредственно для **TPU**, а использование `tf.shape` вместо Python-операций сохраняет выполнение в графовом режиме для ускорения вычислений:"
      ],
      "metadata": {
        "id": "1wzhFChOVSSu"
      }
    },
    {
      "cell_type": "code",
      "source": [
        "@tf.function(jit_compile=True)  # Ключевое изменение для TPU\n",
        "def train_step(inp, targ, enc_hidden):\n",
        "  loss = 0.0  # Явно указываем float\n",
        "\n",
        "  # Проверка на пустые последовательности\n",
        "  if tf.shape(targ)[1] <= 1:\n",
        "      return tf.constant(0.0, dtype=tf.float32)\n",
        "\n",
        "  with tf.GradientTape() as tape:\n",
        "    # Передаем входную последовательность и начальное состояние кодировщика\n",
        "    enc_output, enc_hidden = encoder(inp, enc_hidden)\n",
        "\n",
        "    # dec_hidden используется вниманием\n",
        "    dec_hidden = enc_hidden\n",
        "\n",
        "    # SOS <start> токен инициализирует вход декодировщика\n",
        "    dec_input = tf.expand_dims([tokenizer_output.word_index[SOS]] * BATCH_SIZE, 1)\n",
        "\n",
        "    # teacher forcing technique\n",
        "    for t in range(1, targ.shape[1]):\n",
        "      predictions, dec_hidden, _ = decoder(dec_input, dec_hidden, enc_output)\n",
        "      loss += loss_function(targ[:, t], predictions)\n",
        "      dec_input = tf.expand_dims(targ[:, t], 1)\n",
        "\n",
        "  # Вычисляем среднюю потерю (используем tf.shape вместо Python int)\n",
        "  seq_length = tf.shape(targ)[1]\n",
        "  batch_loss = loss / tf.cast(seq_length - 1, tf.float32)  # -1 потому что начинаем с 1\n",
        "\n",
        "  # Получаем переменные модели\n",
        "  variables = encoder.trainable_variables + decoder.trainable_variables\n",
        "\n",
        "  # Вычисляем градиенты\n",
        "  gradients = tape.gradient(loss, variables)\n",
        "\n",
        "  # Фильтруем None градиенты (критически важно для TPU)\n",
        "  filtered_gradients = [(g, v) for g, v in zip(gradients, variables) if g is not None]\n",
        "  if filtered_gradients:\n",
        "      grads, vars = zip(*filtered_gradients)\n",
        "      optimizer.apply_gradients(zip(grads, vars))\n",
        "\n",
        "  # Явно возвращаем float32\n",
        "  return tf.cast(batch_loss, tf.float32)"
      ],
      "metadata": {
        "id": "nqaJ7S9vVSc3"
      },
      "execution_count": null,
      "outputs": []
    },
    {
      "cell_type": "markdown",
      "source": [
        "Теперь инициализируем сам цикл обучения. Запускаем цикл в течение заданного количества периодов. Сначала инициализируем скрытое состояние кодировщика, используя метод `initialize_hidden_state()`. Перебираем набор данных по одному пакету за раз (за каждую эпоху). Для каждого пакета необходимо вызвать метод `train_step()` и вычислить потери. Процедуру повторяем для всех эпох:"
      ],
      "metadata": {
        "id": "Bu2HSOcRVVmk"
      }
    },
    {
      "cell_type": "code",
      "source": [
        "# Цикл обучения\n",
        "for epoch in range(EPOCHS):\n",
        "  start = time.time()\n",
        "\n",
        "  # Инициализация скрытого состояния\n",
        "  enc_hidden = encoder.initialize_hidden_state()\n",
        "  total_loss = 0\n",
        "\n",
        "  # Цикл по всему датасету\n",
        "  for (batch, (inp, targ)) in enumerate(dataset.take(STEPS_PER_EPOCH)):\n",
        "\n",
        "    # Вызываем метод обучения\n",
        "    batch_loss = train_step(inp, targ, enc_hidden)\n",
        "\n",
        "    # Вычисляем потери по пакетам\n",
        "    total_loss += batch_loss\n",
        "\n",
        "  # Сохраняем чекпоинты каждые 5 эпох\n",
        "  if (epoch + 1) % 5 == 0:\n",
        "    checkpoint.save(file_prefix = checkpoint_prefix)\n",
        "\n",
        "  # статистика по каждой эпохе\n",
        "  print(f'Эпоха: {epoch + 1}  |  Потеря:  {(total_loss / STEPS_PER_EPOCH):.4f}  |  Время на эпоху: {time.time() - start} сек \\n' )"
      ],
      "metadata": {
        "id": "5IiNQ89nVVw2",
        "colab": {
          "base_uri": "https://localhost:8080/"
        },
        "outputId": "cac0716a-eadf-4ed8-bbe3-c9cafa9f753a"
      },
      "execution_count": null,
      "outputs": [
        {
          "output_type": "stream",
          "name": "stdout",
          "text": [
            "Эпоха: 1  |  Потеря:  2.2841  |  Время на эпоху: 220.64851713180542 сек \n",
            "\n",
            "Эпоха: 2  |  Потеря:  1.9658  |  Время на эпоху: 178.52507328987122 сек \n",
            "\n",
            "Эпоха: 3  |  Потеря:  1.8908  |  Время на эпоху: 178.6964406967163 сек \n",
            "\n",
            "Эпоха: 4  |  Потеря:  1.8506  |  Время на эпоху: 180.90854597091675 сек \n",
            "\n",
            "Эпоха: 5  |  Потеря:  1.7951  |  Время на эпоху: 179.50384998321533 сек \n",
            "\n",
            "Эпоха: 6  |  Потеря:  1.7264  |  Время на эпоху: 178.5981183052063 сек \n",
            "\n",
            "Эпоха: 7  |  Потеря:  1.6560  |  Время на эпоху: 178.9877414703369 сек \n",
            "\n",
            "Эпоха: 8  |  Потеря:  1.5902  |  Время на эпоху: 178.69879579544067 сек \n",
            "\n",
            "Эпоха: 9  |  Потеря:  1.5295  |  Время на эпоху: 178.89617538452148 сек \n",
            "\n",
            "Эпоха: 10  |  Потеря:  1.4759  |  Время на эпоху: 179.1317915916443 сек \n",
            "\n",
            "Эпоха: 11  |  Потеря:  1.4301  |  Время на эпоху: 178.67888045310974 сек \n",
            "\n",
            "Эпоха: 12  |  Потеря:  1.3842  |  Время на эпоху: 178.9056522846222 сек \n",
            "\n",
            "Эпоха: 13  |  Потеря:  1.3386  |  Время на эпоху: 179.39783310890198 сек \n",
            "\n",
            "Эпоха: 14  |  Потеря:  1.3010  |  Время на эпоху: 178.74529027938843 сек \n",
            "\n",
            "Эпоха: 15  |  Потеря:  1.2459  |  Время на эпоху: 179.14215970039368 сек \n",
            "\n",
            "Эпоха: 16  |  Потеря:  1.1923  |  Время на эпоху: 178.90534615516663 сек \n",
            "\n",
            "Эпоха: 17  |  Потеря:  1.1432  |  Время на эпоху: 179.16474318504333 сек \n",
            "\n",
            "Эпоха: 18  |  Потеря:  1.0969  |  Время на эпоху: 179.2418098449707 сек \n",
            "\n",
            "Эпоха: 19  |  Потеря:  1.0541  |  Время на эпоху: 178.69442105293274 сек \n",
            "\n",
            "Эпоха: 20  |  Потеря:  1.0172  |  Время на эпоху: 179.03509998321533 сек \n",
            "\n",
            "Эпоха: 21  |  Потеря:  0.9815  |  Время на эпоху: 178.67028999328613 сек \n",
            "\n",
            "Эпоха: 22  |  Потеря:  0.9450  |  Время на эпоху: 178.59137868881226 сек \n",
            "\n",
            "Эпоха: 23  |  Потеря:  0.9095  |  Время на эпоху: 178.61292576789856 сек \n",
            "\n",
            "Эпоха: 24  |  Потеря:  0.8735  |  Время на эпоху: 178.7325518131256 сек \n",
            "\n",
            "Эпоха: 25  |  Потеря:  0.8484  |  Время на эпоху: 178.5607454776764 сек \n",
            "\n",
            "Эпоха: 26  |  Потеря:  0.8288  |  Время на эпоху: 178.5974018573761 сек \n",
            "\n",
            "Эпоха: 27  |  Потеря:  0.7968  |  Время на эпоху: 179.09376502037048 сек \n",
            "\n",
            "Эпоха: 28  |  Потеря:  0.7585  |  Время на эпоху: 178.8160982131958 сек \n",
            "\n",
            "Эпоха: 29  |  Потеря:  0.7356  |  Время на эпоху: 178.7894639968872 сек \n",
            "\n",
            "Эпоха: 30  |  Потеря:  0.7250  |  Время на эпоху: 179.01327347755432 сек \n",
            "\n"
          ]
        }
      ]
    },
    {
      "cell_type": "markdown",
      "source": [
        "Алгоритм следующей функции:\n",
        "\n",
        "1. Начнем с инициализации пустой диаграммы внимания, которая будет построена позже, с помощью `max_length_output` по оси `Y` и `max_length_input` по оси `X`;\n",
        "\n",
        "2. Предварительно необходимо выполнить предобработку фразы и преобразовать ее в тензор;\n",
        "\n",
        "3. Инициализируем пустое скрытое состояние, которое будет использоваться при инициализации кодировщика. Инициализацию произведем с помощью метода `initialize_hidden_state()` в классе `encoder`, в результате чего получим выходное скрытое состояние, имеющее размеры `batch_size * hidden_units`;\n",
        "\n",
        "4. Вызываем класс `encoder` и получаем выходные данные кодировщика и конечное скрытое состояние;\n",
        "\n",
        "5. Используя цикл `max_length_output`, вызываем класс `decoder`, в котором `dec_input` - это токен `<start>`, `dec_hidden state` - это скрытое состояние кодировщика, а `enc_out` - это выходные данные кодировщика. Получаем выходные данные декодировщика, скрытое состояние и коэфиициенты внимания (еще их называют веса внимания, но мы используем термин коэффициенты, чтобы не путаться с весами модели);\n",
        "\n",
        "6. Создадим график, используя значения коэффициентов внимания. Извлечем предсказанный токен с максимальным вниманием. Добавим токен к результату и перейдем к следующей итерации, повторяем пока не будет достигнут токен `<end>`;\n",
        "\n",
        "7. Следующим вводом декодера будет ранее предсказанный индекс (относящийся к токену).\n",
        "\n",
        "Напишем теперь функцию `evaluate()`:"
      ],
      "metadata": {
        "id": "WknDwGKsVgdZ"
      }
    },
    {
      "cell_type": "code",
      "source": [
        "def evaluate(sentence):\n",
        "  # График внимания (будет построен позже)\n",
        "  attention_plot = np.zeros((max_length_output, max_length_input))\n",
        "\n",
        "  sentence = preprocess_sentence(sentence)\n",
        "\n",
        "  # Приведем предложение к нижнему регистру и разобьем на слова\n",
        "  words = sentence.split(' ')\n",
        "  inputs = list() # список для сбора токенов\n",
        "\n",
        "  # Для каждого слова в предложении найдем токен в словаре, если не найдем, то пропустим\n",
        "  for word in words:\n",
        "      try:\n",
        "          inputs.append(tokenizer_input.word_index[word])\n",
        "      except:\n",
        "          pass # игнорируем слово, которое не знаем\n",
        "\n",
        "  # Зафиксируем длину последовательности, дополнив нулями\n",
        "  inputs = tf.keras.preprocessing.sequence.pad_sequences([inputs],\n",
        "                                                         maxlen=max_length_input,\n",
        "                                                         padding='post')\n",
        "  # Конвертируем вход в тензор\n",
        "  inputs = tf.convert_to_tensor(inputs)\n",
        "\n",
        "  result = ''\n",
        "\n",
        "  hidden = [tf.zeros((1, UNITS))]\n",
        "  enc_out, enc_hidden = encoder(inputs, hidden)\n",
        "\n",
        "  dec_hidden = enc_hidden\n",
        "\n",
        "  dec_input = tf.expand_dims([tokenizer_output.word_index[SOS]], 0)\n",
        "\n",
        "  # Повторяйте цикл до тех пор, пока не будет достигнута максимальная длина для целевого языка\n",
        "  for t in range(max_length_output):\n",
        "    predictions, dec_hidden, attention_weights = decoder(dec_input,\n",
        "                                                         dec_hidden,\n",
        "                                                         enc_out)\n",
        "\n",
        "    # Сохраняем значения коэффициентов внимания\n",
        "    attention_weights = tf.reshape(attention_weights, (-1, ))\n",
        "    attention_plot[t] = attention_weights.numpy()\n",
        "\n",
        "    # Получаем предсказание с максимальным вниманием\n",
        "    predicted_id = tf.argmax(predictions[0]).numpy()\n",
        "\n",
        "    # Добавляем токены к результату\n",
        "    result += tokenizer_output.index_word[predicted_id] + ' '\n",
        "\n",
        "    # Если токен <end> достигнут, возвращаем результат, входные данные и график внимания\n",
        "    if tokenizer_output.index_word[predicted_id] == EOS:\n",
        "      return result, sentence, attention_plot\n",
        "\n",
        "    # Предсказанное значение подается обратно в модель\n",
        "    dec_input = tf.expand_dims([predicted_id], 0)\n",
        "\n",
        "  return result, sentence, attention_plot"
      ],
      "metadata": {
        "id": "4iNrjET8Vgo1"
      },
      "execution_count": null,
      "outputs": []
    },
    {
      "cell_type": "markdown",
      "source": [
        "Определим функцию `plot_attention()` для вывода статистики механизма внимания:"
      ],
      "metadata": {
        "id": "7wBb7Cx9VpoQ"
      }
    },
    {
      "cell_type": "code",
      "source": [
        "def plot_attention(attention, sentence, predicted_sentence):\n",
        "  fig = plt.figure(figsize=(10,10))\n",
        "  ax = fig.add_subplot(1, 1, 1)\n",
        "  ax.matshow(attention, cmap='viridis') # рисуем 2d матрицу\n",
        "  fontdict = {'fontsize': 14}           # размер текста\n",
        "\n",
        "  ax.set_xticklabels([''] + sentence, fontdict=fontdict, rotation=90) # вопросы по горизонтали\n",
        "  ax.set_yticklabels([''] + predicted_sentence, fontdict=fontdict)    # ответы по вертикали\n",
        "\n",
        "  # Задаем форматирование делений (тикеров) по осям\n",
        "  ax.xaxis.set_major_locator(ticker.MultipleLocator(1))\n",
        "  ax.yaxis.set_major_locator(ticker.MultipleLocator(1))\n",
        "\n",
        "  plt.title(\"Механизм внимания чат-бота\")\n",
        "  plt.xlabel(\"Вопрос\")\n",
        "  plt.ylabel(\"Сгенерированный ответ\")\n",
        "\n",
        "  plt.show()"
      ],
      "metadata": {
        "id": "d68o3wXdVqBF"
      },
      "execution_count": null,
      "outputs": []
    },
    {
      "cell_type": "markdown",
      "source": [
        "Определим функцию перевода `translate()`, которая внутри будет вызывать функцию `evaluate()`:"
      ],
      "metadata": {
        "id": "IvwyTbyFVw_M"
      }
    },
    {
      "cell_type": "code",
      "source": [
        "# Функция перевода\n",
        "def translate(sentence):\n",
        "  # Вызов функции evaluate()\n",
        "  result, sentence, attention_plot = evaluate(sentence)\n",
        "\n",
        "  print('Ввод: %s' % (sentence))\n",
        "  print(f'Перевод: {result}')\n",
        "\n",
        "  attention_plot = attention_plot[:len(result.split(' ')), :len(sentence.split(' '))]\n",
        "  plot_attention(attention_plot, sentence.split(' '), result.split(' '))"
      ],
      "metadata": {
        "id": "ZQvTbAeZVxXk"
      },
      "execution_count": null,
      "outputs": []
    },
    {
      "cell_type": "markdown",
      "source": [
        "Восстановим сохраненные чекпоинты модели:"
      ],
      "metadata": {
        "id": "UI9F3c8pVyVC"
      }
    },
    {
      "cell_type": "code",
      "source": [
        "checkpoint.restore(tf.train.latest_checkpoint(checkpoint_dir))"
      ],
      "metadata": {
        "id": "UOKzGiPhVygl",
        "colab": {
          "base_uri": "https://localhost:8080/"
        },
        "outputId": "11e48f11-aad7-481a-bdaf-2e90ff892a06"
      },
      "execution_count": null,
      "outputs": [
        {
          "output_type": "execute_result",
          "data": {
            "text/plain": [
              "<tensorflow.python.checkpoint.checkpoint.CheckpointLoadStatus at 0x79602430bce0>"
            ]
          },
          "metadata": {},
          "execution_count": 27
        }
      ]
    },
    {
      "cell_type": "markdown",
      "source": [
        "Напишем 3 примера:"
      ],
      "metadata": {
        "id": "DjxULY9sVyq2"
      }
    },
    {
      "cell_type": "code",
      "source": [
        "translate('how are you?')"
      ],
      "metadata": {
        "id": "zthyU0qSVy6W",
        "colab": {
          "base_uri": "https://localhost:8080/",
          "height": 976
        },
        "outputId": "d8415c2a-47d6-4429-9b7f-fdb1e93a45d3"
      },
      "execution_count": null,
      "outputs": [
        {
          "output_type": "stream",
          "name": "stdout",
          "text": [
            "Ввод: <start> how are you ? <end>\n",
            "Перевод: i think i had a ticket . <end> \n"
          ]
        },
        {
          "output_type": "display_data",
          "data": {
            "text/plain": [
              "<Figure size 1000x1000 with 1 Axes>"
            ],
            "image/png": "[encoded data removed]"
          },
          "metadata": {}
        }
      ]
    },
    {
      "cell_type": "code",
      "source": [
        "translate('what is your name?')"
      ],
      "metadata": {
        "colab": {
          "base_uri": "https://localhost:8080/",
          "height": 976
        },
        "id": "3qeTsInq3AAd",
        "outputId": "21068ef2-c9d8-4216-dc0a-ce0598eaa94a"
      },
      "execution_count": null,
      "outputs": [
        {
          "output_type": "stream",
          "name": "stdout",
          "text": [
            "Ввод: <start> what is your name ? <end>\n",
            "Перевод: i got laid off because <end> \n"
          ]
        },
        {
          "output_type": "display_data",
          "data": {
            "text/plain": [
              "<Figure size 1000x1000 with 1 Axes>"
            ],
            "image/png": "[encoded data removed]"
          },
          "metadata": {}
        }
      ]
    },
    {
      "cell_type": "code",
      "source": [
        "translate('Hello')"
      ],
      "metadata": {
        "colab": {
          "base_uri": "https://localhost:8080/",
          "height": 976
        },
        "id": "6KTI9kEX3GOZ",
        "outputId": "38ab36df-af32-4403-a47d-c6611a3722e0"
      },
      "execution_count": null,
      "outputs": [
        {
          "output_type": "stream",
          "name": "stdout",
          "text": [
            "Ввод: <start> Hello <end>\n",
            "Перевод: i don't know . <end> \n"
          ]
        },
        {
          "output_type": "display_data",
          "data": {
            "text/plain": [
              "<Figure size 1000x1000 with 1 Axes>"
            ],
            "image/png": "[encoded data removed]"
          },
          "metadata": {}
        }
      ]
    }
  ]
}